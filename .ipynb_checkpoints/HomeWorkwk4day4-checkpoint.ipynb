{
 "cells": [
  {
   "cell_type": "code",
   "execution_count": null,
   "id": "c09491b7",
   "metadata": {},
   "outputs": [],
   "source": [
    "import requests"
   ]
  },
  {
   "cell_type": "code",
   "execution_count": null,
   "id": "35e65126",
   "metadata": {},
   "outputs": [],
   "source": [
    "url = f'https://pokeapi.co/api/v2/pokemon/pikachu'"
   ]
  },
  {
   "cell_type": "code",
   "execution_count": null,
   "id": "7d5a749e",
   "metadata": {},
   "outputs": [],
   "source": [
    "response = requests.get(url)\n",
    "print(response)"
   ]
  },
  {
   "cell_type": "code",
   "execution_count": null,
   "id": "38b20b7d",
   "metadata": {},
   "outputs": [],
   "source": [
    "response.ok"
   ]
  },
  {
   "cell_type": "code",
   "execution_count": null,
   "id": "b8f6102a",
   "metadata": {},
   "outputs": [],
   "source": [
    "response.json()"
   ]
  },
  {
   "cell_type": "code",
   "execution_count": null,
   "id": "84af3ef9",
   "metadata": {},
   "outputs": [],
   "source": [
    "data = response.json()\n",
    "ability = data['abilities'][0]['ability']['name']\n",
    "ability"
   ]
  },
  {
   "cell_type": "code",
   "execution_count": null,
   "id": "ca49c613",
   "metadata": {},
   "outputs": [],
   "source": [
    "def pokeInfo(pokeName):\n",
    "    url = f'https://pokeapi.co/api/v2/pokemon/{pokeName}'\n",
    "    response = requests.get(url)\n",
    "    data = response.json()\n",
    "    pokeDictionary = {\n",
    "        'name' : data['forms'][0]['name'],\n",
    "        'abilities' : data['abilities'][0]['ability']['name'],\n",
    "        'base_exp' : data['base_experience'],\n",
    "        'sprite' : data['sprites']['front_shiny'],\n",
    "        'attack' : data['stats'][1]['base_stat'],\n",
    "        'hp' : data['stats'][0]['base_stat'],\n",
    "        'defense' : data['stats'][2]['base_stat']\n",
    "        }\n",
    "    \n",
    "    return pokeDictionary\n",
    "\n",
    "\n",
    "pokeInfo('absol')\n",
    "pokeInfo('muk')\n",
    "pokeInfo('gengar')\n",
    "pokeInfo('haunter')\n",
    "pokeInfo('charmander')"
   ]
  }
 ],
 "metadata": {
  "kernelspec": {
   "display_name": "Python 3 (ipykernel)",
   "language": "python",
   "name": "python3"
  },
  "language_info": {
   "codemirror_mode": {
    "name": "ipython",
    "version": 3
   },
   "file_extension": ".py",
   "mimetype": "text/x-python",
   "name": "python",
   "nbconvert_exporter": "python",
   "pygments_lexer": "ipython3",
   "version": "3.9.7"
  }
 },
 "nbformat": 4,
 "nbformat_minor": 5
}
